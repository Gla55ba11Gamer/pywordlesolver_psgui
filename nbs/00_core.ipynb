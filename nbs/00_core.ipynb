{
 "cells": [
  {
   "cell_type": "markdown",
   "metadata": {},
   "source": [
    "# pywordlesolver_psgui\n",
    "\n",
    "> Fill in a module description here\n",
    "\n",
    "This is a very basic attempt at implementing a simple gui presenting some statistical feedback on a wordle puzzle.\n",
    "\n",
    "In part it is intended to help cheat on future wordles, but more importantly for me, it is a working intro to python packaging with nbdev, git, github, githubpages etc ... ieNEWBie. So please, lower your expectations now. Why? Because this is how I really like to learn new stuff. It might even stray to inefficiency if I'm trying out an element of Python I've not worked/played with enough.\n",
    "\n",
    "**WORDLE - IMPLEMENTED RULES AND DEFAULTS**\n",
    "\n",
    ">[Wordle](https://en.wikipedia.org/wiki/Wordle) \"is a web-based word game created and developed by Welsh software engineer Josh Wardle, and owned and published by The New York Times Company since 2022. Players have six attempts to guess a five-letter word, with feedback given for each guess in the form of colored tiles indicating when letters match or occupy the correct position. The mechanics are nearly identical to the 1955 pen-and-paper game Jotto and the television game show franchise Lingo. Wordle has a single daily solution, with all players attempting to guess the same word.\"\n",
    "\n",
    "By default, this package loads an English language file string, and uses the five-letter, six guesses rules. However, these should be extended in the future.\n",
    "\n",
    "**WORDLE SOLVER OOP Structure and event/window loop**\n",
    "import pysimplegui, sys, os\n",
    "\n",
    "1. wordle funcs* \n",
    "    *  def setup, \n",
    "    *  def reduce, \n",
    "    *  def frequencies.\n",
    "\n",
    "* GUI event loop\n",
    "    * window setup\n",
    "    * while true:\n",
    "        event, value = window.read\n",
    "        - setup(default, default) -> wordle_words, target\n",
    "        - for guess in range(6):\n",
    "            - on event == --RESTART-- call setup()\n",
    "            - on event == valid (--INPUT--):\n",
    "                - if --INPUT-- == target: report 'Guessed in ' {guess} ' guesses!!!'\n",
    "                - else: reduce wordle_words\n",
    "                - frequencies(wordle_words)\n",
    "                - print many lines to (--OUTPUT--))\n",
    "        on event --QUIT--: sys.exit()\n",
    "\n"
   ]
  },
  {
   "cell_type": "code",
   "execution_count": null,
   "metadata": {},
   "outputs": [],
   "source": [
    "#| default_exp core"
   ]
  },
  {
   "cell_type": "code",
   "execution_count": null,
   "metadata": {},
   "outputs": [],
   "source": [
    "#| hide\n",
    "from nbdev.showdoc import *\n",
    "\n",
    "import pysimplegui"
   ]
  },
  {
   "cell_type": "code",
   "execution_count": null,
   "metadata": {},
   "outputs": [
    {
     "ename": "",
     "evalue": "",
     "output_type": "error",
     "traceback": [
      "\u001b[1;31mFailed to start the Kernel. \n",
      "\u001b[1;31mKernel pywordle_psgui-COoPYZhf (Python 3.8.12) is not usable. Check the Jupyter output tab for more information. \n",
      "\u001b[1;31mView Jupyter <a href='command:jupyter.viewOutput'>log</a> for further details."
     ]
    }
   ],
   "source": [
    "#| export\n",
    "def setup(lang_file:str='.web2', wordle_length:int=5)->tuple(list, str):\n",
    "    '''\n",
    "    Import a language string and return it as a single, same case, non-duplicative list of words of a specified lenght.\n",
    "    A glance through the ~60k qualifying words reveals the possible need to vary the target word probability of selecting\n",
    "    a wordle, to somehow account for general useage, or risk failing on aailett \n",
    "    This becomes the starting list of words from which a target is selected and clues result in reductions to it.\n",
    "    \n",
    "    Args:\n",
    "    lang_file   [str]:  The source file name (default = web2 a file found on macs(*nix) usr/dict/web2 used in various\n",
    "                        spellcheck etc utils. A local copy is advisable).\n",
    "    length:     [int]:  The orginal game specifies 5-letter words\n",
    "    '''\n",
    "    pass"
   ]
  },
  {
   "cell_type": "code",
   "execution_count": null,
   "metadata": {},
   "outputs": [],
   "source": [
    "def give_clues(target:str, guesses:list):\n",
    "    '''\n",
    "    In response to valid --INPUT-- report on letter clues: CORRECT, PARTIAL, EXCLUSION\n",
    "    \n",
    "    \n",
    "    '''\n",
    "    pass"
   ]
  },
  {
   "cell_type": "code",
   "execution_count": null,
   "metadata": {},
   "outputs": [],
   "source": [
    "def reducer(wordle_words: list, target:str, guesses:list)->list:\n",
    "    '''Take a list of valid wordle word, a target wordle and the guesses alredy made, and return '''\n",
    "    pass"
   ]
  },
  {
   "cell_type": "code",
   "execution_count": null,
   "metadata": {},
   "outputs": [],
   "source": [
    "def frequencies(wordle_words: list, guesses: list)->dict:\n",
    "    pass"
   ]
  },
  {
   "cell_type": "code",
   "execution_count": null,
   "metadata": {},
   "outputs": [],
   "source": [
    "def hints(wordle_words:list, letter_frequencies:dict)->str:\n",
    "    pass"
   ]
  },
  {
   "cell_type": "markdown",
   "metadata": {},
   "source": [
    "Next comes the main event loop for the gui. Take care in running this cell as it can easily crash the kernel runing this notebook."
   ]
  },
  {
   "cell_type": "code",
   "execution_count": null,
   "metadata": {},
   "outputs": [],
   "source": [
    "def gui_event_loop(guesses, ):"
   ]
  },
  {
   "cell_type": "code",
   "execution_count": null,
   "metadata": {},
   "outputs": [],
   "source": [
    "#| hide\n",
    "import nbdev; nbdev.nbdev_export()"
   ]
  }
 ],
 "metadata": {
  "kernelspec": {
   "display_name": "Python 3.8.12 ('pywordle_psgui-COoPYZhf')",
   "language": "python",
   "name": "python3"
  },
  "language_info": {
   "name": "python",
   "version": "3.8.12"
  },
  "vscode": {
   "interpreter": {
    "hash": "d1b9beec4fd7ff7d0dedd3722b5721faecb82e3e17870fa6e7e76651106a452d"
   }
  }
 },
 "nbformat": 4,
 "nbformat_minor": 4
}
